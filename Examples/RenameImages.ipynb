{
 "cells": [
  {
   "cell_type": "markdown",
   "id": "bdc52455",
   "metadata": {},
   "source": [
    "## Overview:\n",
    "\n",
    "You can use the `Rename()` function from `PyPl8.Barcodes.BarcodeMethods` to rename a folder of images. The function will first make a list of the .jpg files in the input folder. Then it will load the provided excel or csv file and convert it to a data frame. The data frame will be used to map from the barcode numbers to the relevent information to be used in the new name. For the function to work correctly, the barcodes must be in the first column of the excel or csv file and have the column title \"Barcode\". The other column names can be whatever you choose, but should not contain spaces. Once the reference data frame has been built, the function will loop through each image on the file list and \n",
    "* Load the image\n",
    "* Detect and decode the barcode using a function from pyzbar. This function can detect many different barcode types. See the [pyzbar documentation](https://pypi.org/project/pyzbar/) for more info.\n",
    "* If the barcode is not successfully detected or decoded the image's original filename will be printed to the screen along with an error message and it will remain unmodified.\n",
    "* After successful barcode detection, a new name will be built for the image from the corresponding row of the data frame and the image will be renamed accordingly in place.\n",
    "* If the detected barcode is not included in the reference sheet, the image's original filename will be printed to the screen along with an error message and it will remain unmodified.\n",
    "\n",
    "## Function use:\n",
    "\n",
    "`PyPl8.Barcodes.BarcodeMethods.Rename(image_folder, master_sheet, column_list, code='', delimiter='_', datetime_delimiter='-', datetime=True)`\n",
    "\n",
    "### Parameters\n",
    "* **image_folder:** *string (required)* <br> path to the folder containing .jpg images to be renamed\n",
    "* **master_sheet:** *string (required)* <br> the name of the file containing the barcode and naming information. The file should be located in the current working directory where the `Rename()` function is called. Either excel or comma-separated-value files can be used. For the function to work correctly, the barcodes must be in the first column of the excel or csv file and have the column title \"Barcode\". \n",
    "* **column_list:** *list of strings (required)* <br> list containing the titles of columns to be included in the new image name. List should be ordered according to the order you want entries be included in the new name.\n",
    "* **code:** *string (optional)* <br> This is a bonus parameter that can be used to append an addiitional string to all image names in the folder. For example, for a folder of images taken 24 hours after pinning, you might want to use code = '24h'. The default is to leave this out of the image name.\n",
    "* **delimiter:** *string (optional)* <br> The delimiter will be used to separate the info from each column included in the new image name. The default is to use an underscore.  \n",
    "* **datetime:** *boolean (optional)* <br> The boolean value, either True or False indicates whether to append the date time information to the end of the image name. The default value is True, and the new image name will include the hr-min-sec extracted from the image metadata.\n",
    "* **datetime_delimiter:** *string (optional)* <br> The datetime_delimiter is used to separate the hours, minutes and seconds at which the image was taken. The default value is a single hyphen. If you want to use hyphens as the regular delimiter, you may want to change this. \n",
    "\n",
    "### Returns\n",
    "None. Files will be renamed inplace.\n",
    "\n",
    "## Example 1: Rename images with default settings."
   ]
  },
  {
   "cell_type": "code",
   "execution_count": null,
   "id": "788e1316",
   "metadata": {},
   "outputs": [],
   "source": [
    "# -- load packages\n",
    "\n",
    "import os\n",
    "from PyPl8.Barcodes.BarcodeMethods import Rename\n",
    "\n",
    "# -- keep track of current working directory in case of error\n",
    "cwd = os.getcwd()\n",
    "\n",
    "# -- rename using default delimiter settings\n",
    "image_folder = '/home/user/ExampleImages'\n",
    "Rename(image_folder, 'MasterSheet.xlsx', ['Plate','Condition','TimePoint'])"
   ]
  },
  {
   "cell_type": "markdown",
   "id": "c18ae66d",
   "metadata": {},
   "source": [
    "## Example 2: Rename images with alternate delimiter settings and a folder code."
   ]
  },
  {
   "cell_type": "code",
   "execution_count": null,
   "id": "cadf223d",
   "metadata": {},
   "outputs": [],
   "source": [
    "# -- load packages\n",
    "import os\n",
    "from PyPl8.Barcodes.BarcodeMethods import Rename\n",
    "\n",
    "# -- keep track of current working directory in case of error\n",
    "cwd = os.getcwd()\n",
    "\n",
    "# -- rename with alternate delimiter settings and using a folder code\n",
    "image_folder = '/home/home/user/ExampleImages'\n",
    "Rename(image_folder, 'MasterSheet.xlsx', ['Plate','Condition'], code = '24h', delimiter = '-', datetime_delimiter = 't')"
   ]
  }
 ],
 "metadata": {
  "kernelspec": {
   "display_name": "Python 3 (ipykernel)",
   "language": "python",
   "name": "python3"
  },
  "language_info": {
   "codemirror_mode": {
    "name": "ipython",
    "version": 3
   },
   "file_extension": ".py",
   "mimetype": "text/x-python",
   "name": "python",
   "nbconvert_exporter": "python",
   "pygments_lexer": "ipython3",
   "version": "3.7.1"
  }
 },
 "nbformat": 4,
 "nbformat_minor": 5
}
